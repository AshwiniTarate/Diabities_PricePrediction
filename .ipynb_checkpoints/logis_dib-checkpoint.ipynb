{
 "cells": [
  {
   "cell_type": "code",
   "execution_count": 1,
   "metadata": {},
   "outputs": [],
   "source": [
    "import pickle\n",
    "import json\n",
    "import numpy as np\n",
    "logistic=pickle.load(open('model_save.pickle','rb'))"
   ]
  },
  {
   "cell_type": "code",
   "execution_count": 2,
   "metadata": {},
   "outputs": [
    {
     "data": {
      "text/plain": [
       "['pregnancies',\n",
       " 'glucose',\n",
       " 'bloodpressure',\n",
       " 'skinthickness',\n",
       " 'insulin',\n",
       " 'bmi',\n",
       " 'diabetespedigreefunction',\n",
       " 'age']"
      ]
     },
     "execution_count": 2,
     "metadata": {},
     "output_type": "execute_result"
    }
   ],
   "source": [
    "file=json.load(open('col of save.','r'))['data_columns']\n",
    "file"
   ]
  },
  {
   "cell_type": "code",
   "execution_count": 8,
   "metadata": {},
   "outputs": [
    {
     "data": {
      "text/plain": [
       "8"
      ]
     },
     "execution_count": 8,
     "metadata": {},
     "output_type": "execute_result"
    }
   ],
   "source": [
    "len(file)"
   ]
  },
  {
   "cell_type": "code",
   "execution_count": 3,
   "metadata": {},
   "outputs": [],
   "source": [
    "# file=json.load(open('col of save.','r'))\n",
    "# a=file.values()\n",
    "# type(a)\n",
    "# a"
   ]
  },
  {
   "cell_type": "code",
   "execution_count": 4,
   "metadata": {},
   "outputs": [],
   "source": [
    "def outcome(Pregnancies, Glucose, BloodPressure, SkinThickness, Insulin,BMI, DiabetesPedigreeFunction,Age):\n",
    "    s=np.zeros(len(file))\n",
    "    s[0]=Pregnancies\n",
    "    s[1]=Glucose\n",
    "    s[2]=BloodPressure\n",
    "    s[3]=SkinThickness\n",
    "    s[4]=Insulin\n",
    "    s[5]=float(BMI)\n",
    "    s[6]=float(DiabetesPedigreeFunction)\n",
    "    s[7]=Age\n",
    "    return logistic.predict([s])[0]"
   ]
  },
  {
   "cell_type": "code",
   "execution_count": 5,
   "metadata": {},
   "outputs": [],
   "source": [
    "import pickle\n",
    "import json\n",
    "import numpy as np  #row=1\n"
   ]
  },
  {
   "cell_type": "code",
   "execution_count": 6,
   "metadata": {},
   "outputs": [],
   "source": [
    "def outcome_pred(Pregnancies, Glucose, BloodPressure, SkinThickness, Insulin,BMI, DiabetesPedigreeFunction,Age):\n",
    "    logistic=pickle.load(open('model_save.pickle','rb'))\n",
    "    file=json.load(open('col of save.','r'))['data_columns']\n",
    "    \n",
    "    s=np.zeros(len(file))\n",
    "    s[0]=Pregnancies\n",
    "    s[1]=Glucose\n",
    "    s[2]=BloodPressure\n",
    "    s[3]=SkinThickness\n",
    "    s[4]=Insulin\n",
    "    s[5]=float(BMI)\n",
    "    s[6]=float(DiabetesPedigreeFunction)\n",
    "    s[7]=Age\n",
    "    return logistic.predict([s])[0]\n",
    "    \n",
    "    "
   ]
  },
  {
   "cell_type": "code",
   "execution_count": 7,
   "metadata": {},
   "outputs": [
    {
     "data": {
      "text/plain": [
       "0"
      ]
     },
     "execution_count": 7,
     "metadata": {},
     "output_type": "execute_result"
    }
   ],
   "source": [
    "pred22=outcome_pred(1,85,66,29,0,26.6,0.351,31)  \n",
    "pred22"
   ]
  },
  {
   "cell_type": "code",
   "execution_count": null,
   "metadata": {},
   "outputs": [],
   "source": []
  }
 ],
 "metadata": {
  "kernelspec": {
   "display_name": "Python 3",
   "language": "python",
   "name": "python3"
  },
  "language_info": {
   "codemirror_mode": {
    "name": "ipython",
    "version": 3
   },
   "file_extension": ".py",
   "mimetype": "text/x-python",
   "name": "python",
   "nbconvert_exporter": "python",
   "pygments_lexer": "ipython3",
   "version": "3.8.5"
  }
 },
 "nbformat": 4,
 "nbformat_minor": 4
}
